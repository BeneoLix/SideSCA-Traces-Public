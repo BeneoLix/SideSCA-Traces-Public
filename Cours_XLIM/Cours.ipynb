{
 "cells": [
  {
   "cell_type": "markdown",
   "metadata": {},
   "source": [
    "# Cours sur l'Embarqué\n",
    "\n",
    "### Durée totale: 9h\n",
    "\n",
    "-----------\n",
    "#  Cours 1 : An Introduction to Physical Security\n",
    "\n",
    "Les slides actuels de cette presentation sont fait pour au moins 3h. Il y a au moins 68 slides.\n",
    "\n",
    "### Modifications: \n",
    "\n",
    "##### Dans la partie 3 de la presentation , rajouter les differentes methodes d'exponentiation LtoR, RtoLeft, SMAlways etc .. necessaire à la fin du TP.1\n",
    "\n",
    "##### enlever les sections sur la DFA et la DPA qui seront faites dans la seconde scéance de cours.\n",
    "\n",
    "##### Garder dans le cours la partie SPA sur DES car ils feront l'AES et leur rappeller la structure de l'AES et les regles d'implementation sur l'AES: \n",
    "- la multiplication xtimes: comment la faire efficace: tables, decalage de 1 uniquement etc ...\n",
    "- precalcul ou pas des sous clefs ou key schedule à la volée pour préserver la mémoire\n",
    "- on peut se passer du shiftrow\n",
    "- Implementations avec T tables\n",
    "\n",
    "##### SPA sur RSA et l'exponentiation\n",
    "- expliquer l'attaque de base\n",
    "- Lister les autres attaques existantes sans les expliquer, donner les références: S&M always collision attacks\n",
    "\n",
    "------------------------\n",
    "#  Cours 2 : \n",
    "\n",
    "- reprendre DPA / CPA des slides actuels du cours #1\n",
    "\n",
    "- Rajouter les explications sur le t-test\n",
    "\n",
    "- Parler des différents distinguishers: DPA, CPA, \n",
    "à rajouter MIA (Christophe), NICV (Benoit), ANOVA (Benoit)\n",
    "\n",
    "- Il faut que les étudiants comprennent que dans la vraie vie l'attaquant ne connait pas la clef: key ranking needed pour retrouver la clef.\n",
    "- Rajouter les Templates\n",
    "\n",
    "- Expliquer les techniques de masquage symétriques : exple sur AES (voire DES)\n",
    "\n",
    "- Puis expliquer les  attaques second ordre\n",
    "\n",
    "- Parler des contre-mesures d'ordre d pour resister aux attaques d'ordre supérieur d-1\n",
    "\n",
    "- Une solution: techniques de masquage multiplicatif qui se prémunisent des attaques au zéro (zero value attacks)\n",
    "\n",
    "- Attaques avec les moments d'ordre supérieurs: expliquer à quoi elles servent\n",
    "\n",
    "- Lister les autres attaques existantes sans les expliquer, donner les références: collision attacks\n",
    "\n",
    "------------------------\n",
    "#  Cours 3 : \n",
    "\n",
    "Cours actuel sur la PK détaillé.\n",
    "\n",
    "------------------------\n",
    "#  Cours Benoit : \n",
    "\n",
    "Durée: 3h\n",
    "\n",
    "- Reprendre les slides actuels\n",
    "- Retirer le second order qui a été vu dans le cours 2\n",
    "- Garder les attaques invasives et hardwares sur les composants.\n",
    "\n",
    "Ajouts potentiels:\n",
    "- Parler de machine learning supervised et un-supervised.\n",
    "- Attaques à messages choisis pour attaquer en fin de ronde 1 de l'AES\n",
    "- Attaques à messages choisis sur exponentiation ou scalar multiplication\n",
    "\n",
    "- Il faudrait parler des attaques en faute de type SIFA mais bon plus tard."
   ]
  },
  {
   "cell_type": "markdown",
   "metadata": {},
   "source": []
  },
  {
   "cell_type": "markdown",
   "metadata": {},
   "source": []
  },
  {
   "cell_type": "markdown",
   "metadata": {},
   "source": []
  },
  {
   "cell_type": "markdown",
   "metadata": {},
   "source": []
  },
  {
   "cell_type": "markdown",
   "metadata": {},
   "source": []
  },
  {
   "cell_type": "code",
   "execution_count": null,
   "metadata": {},
   "outputs": [],
   "source": []
  },
  {
   "cell_type": "code",
   "execution_count": null,
   "metadata": {},
   "outputs": [],
   "source": []
  }
 ],
 "metadata": {
  "kernelspec": {
   "display_name": "Python 3",
   "language": "python",
   "name": "python3"
  },
  "language_info": {
   "codemirror_mode": {
    "name": "ipython",
    "version": 3
   },
   "file_extension": ".py",
   "mimetype": "text/x-python",
   "name": "python",
   "nbconvert_exporter": "python",
   "pygments_lexer": "ipython3",
   "version": "3.7.9"
  }
 },
 "nbformat": 4,
 "nbformat_minor": 4
}
