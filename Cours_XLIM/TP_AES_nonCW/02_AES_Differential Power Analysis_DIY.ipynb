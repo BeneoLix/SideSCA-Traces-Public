{
 "cells": [
  {
   "cell_type": "markdown",
   "metadata": {},
   "source": [
    "# AES Differential Side-channel Analysis: Guided attack with the API\n",
    "\n",
    "<img src=\"images/Do-It-Yourself.jpg\" width=\"300px\">"
   ]
  },
  {
   "cell_type": "markdown",
   "metadata": {},
   "source": [
    "---\n",
    "\n",
    "## 2 - Prerequisites\n",
    "\n",
    "For this HowTo, we will target an **AES**, so let's import what will be necessary from the eshard's API as well as the THS."
   ]
  },
  {
   "cell_type": "code",
   "execution_count": 1,
   "metadata": {},
   "outputs": [],
   "source": [
    "import scared\n",
    "\n",
    "import matplotlib.pyplot as plt\n",
    "plt.rcParams[\"figure.figsize\"] = [20, 5]\n",
    "GraphTitleFontSize = 14\n",
    "    \n",
    "import numpy as np"
   ]
  },
  {
   "cell_type": "markdown",
   "metadata": {},
   "source": [
    "🤔 Is something missing?\n",
    "\n",
    "😮 The selection function module !!?\n",
    "\n",
    "Actualy no, as selection functions are related to the target algorithms, they lie into the target module itself:\n",
    "```python\n",
    "scared.aes.\n",
    "```\n",
    "\n",
    "Using the auto-completion as shown in HowTo/Tips will help you list all available selection function when using the scared API.\n",
    "\n",
    "Now, let's get the trace acquisition campaign, our **ths**. Here, we use an ETS file."
   ]
  },
  {
   "cell_type": "markdown",
   "metadata": {},
   "source": [
    "---- \n",
    "\n",
    "### In this notebok we use the following Legend\n",
    "\n",
    "-  🅰️ : Action to take\n",
    "-  ✅ : Expected output"
   ]
  },
  {
   "cell_type": "markdown",
   "metadata": {},
   "source": [
    "---\n",
    "🅰️ Import the trace campaign you want to analyse"
   ]
  },
  {
   "cell_type": "code",
   "execution_count": null,
   "metadata": {},
   "outputs": [],
   "source": [
    "import estraces"
   ]
  },
  {
   "cell_type": "code",
   "execution_count": null,
   "metadata": {},
   "outputs": [],
   "source": [
    "ths = estraces.read_ths_from_ets_file(...)    "
   ]
  },
  {
   "cell_type": "markdown",
   "metadata": {},
   "source": [
    "---\n",
    "🅰️ Print the ths information, the ths len\n"
   ]
  },
  {
   "cell_type": "code",
   "execution_count": null,
   "metadata": {},
   "outputs": [],
   "source": [
    "print(...)"
   ]
  },
  {
   "cell_type": "markdown",
   "metadata": {},
   "source": [
    "---\n",
    "🅰️ Check the metadata for first 5 traces\n"
   ]
  },
  {
   "cell_type": "code",
   "execution_count": null,
   "metadata": {},
   "outputs": [],
   "source": [
    "plaintext = ths...\n",
    "print(...)\n",
    "\n",
    "Ciphertext = ths...\n",
    "print(...)\n",
    "\n",
    "\n",
    "Key = ths...\n",
    "print(...)"
   ]
  },
  {
   "cell_type": "markdown",
   "metadata": {},
   "source": [
    "---\n",
    "🅰️ Visualize your traces from the ths information\n",
    "\n",
    "Open the trace with maplotlib in the notebook"
   ]
  },
  {
   "cell_type": "code",
   "execution_count": null,
   "metadata": {},
   "outputs": [],
   "source": [
    "import matplotlib.pyplot as plt\n",
    "plt.rcParams[\"figure.figsize\"] = [20, 5]\n",
    "\n",
    "TraceNumber = ...\n",
    "traces = ...\n",
    "\n",
    "plt.plot(....)\n",
    "plt.show()\n"
   ]
  },
  {
   "cell_type": "markdown",
   "metadata": {},
   "source": [
    "---\n",
    "🅰️ Improve trace analysis with basic signal processing\n",
    "\n",
    "We want to better identify the rounds and repetitive operations in the AES.\n",
    "We can perform running mean, sum and var on the trace using esDynamic functionalities."
   ]
  },
  {
   "cell_type": "markdown",
   "metadata": {},
   "source": [
    "### We import the function from esDynamic"
   ]
  },
  {
   "cell_type": "code",
   "execution_count": 2,
   "metadata": {},
   "outputs": [],
   "source": [
    "from scared.signal_processing import moving_operators as mov, pattern_detection as patt"
   ]
  },
  {
   "cell_type": "markdown",
   "metadata": {},
   "source": [
    "--- \n",
    "🅰️ use the help to understand the function parameters"
   ]
  },
  {
   "cell_type": "code",
   "execution_count": 3,
   "metadata": {},
   "outputs": [
    {
     "data": {
      "text/plain": [
       "\u001b[0;31mSignature:\u001b[0m \u001b[0mmov\u001b[0m\u001b[0;34m.\u001b[0m\u001b[0mmoving_mean\u001b[0m\u001b[0;34m(\u001b[0m\u001b[0mdata\u001b[0m\u001b[0;34m,\u001b[0m \u001b[0mwindow_size\u001b[0m\u001b[0;34m,\u001b[0m \u001b[0maxis\u001b[0m\u001b[0;34m=\u001b[0m\u001b[0;34m-\u001b[0m\u001b[0;36m1\u001b[0m\u001b[0;34m)\u001b[0m\u001b[0;34m\u001b[0m\u001b[0;34m\u001b[0m\u001b[0m\n",
       "\u001b[0;31mDocstring:\u001b[0m\n",
       "Move mean along specified axis with 'window_size' windows length.\n",
       "\n",
       "Args:\n",
       "    data (numpy.ndarray): N-dimensional array.\n",
       "    window_size (int): windows length.\n",
       "    axis (int): Axis over which to move window (default: -1).\n",
       "\n",
       "Returns:\n",
       "    (numpy.ndarray): N-dimensional array. The length on 'axis' dimension is: data.shape['axis'] - 'window_size' + 1.\n",
       "\u001b[0;31mFile:\u001b[0m      /opt/anaconda3/lib/python3.7/site-packages/scared/signal_processing/moving_operators.py\n",
       "\u001b[0;31mType:\u001b[0m      function\n"
      ]
     },
     "metadata": {},
     "output_type": "display_data"
    }
   ],
   "source": [
    "mov.moving_mean?"
   ]
  },
  {
   "cell_type": "markdown",
   "metadata": {},
   "source": [
    "or use the help(..)"
   ]
  },
  {
   "cell_type": "code",
   "execution_count": 4,
   "metadata": {},
   "outputs": [
    {
     "name": "stdout",
     "output_type": "stream",
     "text": [
      "Help on function moving_mean in module scared.signal_processing.moving_operators:\n",
      "\n",
      "moving_mean(data, window_size, axis=-1)\n",
      "    Move mean along specified axis with 'window_size' windows length.\n",
      "    \n",
      "    Args:\n",
      "        data (numpy.ndarray): N-dimensional array.\n",
      "        window_size (int): windows length.\n",
      "        axis (int): Axis over which to move window (default: -1).\n",
      "    \n",
      "    Returns:\n",
      "        (numpy.ndarray): N-dimensional array. The length on 'axis' dimension is: data.shape['axis'] - 'window_size' + 1.\n",
      "\n"
     ]
    }
   ],
   "source": [
    "help(mov.moving_mean)"
   ]
  },
  {
   "cell_type": "markdown",
   "metadata": {},
   "source": [
    "--- \n",
    "🅰️ Process the trace"
   ]
  },
  {
   "cell_type": "code",
   "execution_count": null,
   "metadata": {},
   "outputs": [],
   "source": [
    "#plot running average of traces \n",
    "period = \n",
    "TraceMean = ...\n",
    "\n",
    "plt.plot(TraceMean.T)\n",
    "plt.show()"
   ]
  },
  {
   "cell_type": "markdown",
   "metadata": {},
   "source": [
    "--- \n",
    "🅰️ Same but use a widget to move the window size with a \"slider\"\n"
   ]
  },
  {
   "cell_type": "code",
   "execution_count": null,
   "metadata": {},
   "outputs": [],
   "source": [
    "from ipywidgets import *"
   ]
  },
  {
   "cell_type": "code",
   "execution_count": null,
   "metadata": {},
   "outputs": [],
   "source": [
    "def functionPlotWidget(period):\n",
    "\n",
    "\n",
    "    #signal processing ... operation\n",
    "    \n",
    "    TraceMean = ...\n",
    "    \n",
    "    plt.plot(TraceMean.T)\n",
    "    plt.show()   \n",
    "   \n",
    "interact(functionPlotWidget, period=(min...,max...,step...))"
   ]
  },
  {
   "cell_type": "markdown",
   "metadata": {},
   "source": [
    "--- \n",
    "🅰️ Repeat the operation with other signal processing techniques"
   ]
  },
  {
   "cell_type": "markdown",
   "metadata": {},
   "source": [
    "#### You are now able to easily distinguish the AES rounds and the operations."
   ]
  },
  {
   "cell_type": "markdown",
   "metadata": {},
   "source": [
    "--- \n",
    "🅰️ Where is the roundOne? Define its range."
   ]
  },
  {
   "cell_type": "code",
   "execution_count": null,
   "metadata": {},
   "outputs": [],
   "source": [
    "RoundOne = range(...)"
   ]
  },
  {
   "cell_type": "markdown",
   "metadata": {},
   "source": [
    "--- \n",
    "🅰️ Where is the last round? Define its range."
   ]
  },
  {
   "cell_type": "code",
   "execution_count": null,
   "metadata": {},
   "outputs": [],
   "source": [
    "RoundSixteen = range(...)"
   ]
  },
  {
   "cell_type": "markdown",
   "metadata": {},
   "source": [
    "## Are the traces misaligned?\n",
    "\n",
    "\n",
    "--- \n",
    "🅰️ Print several traces, zoom-in and check if the trace set is aligned properly to run the attack"
   ]
  },
  {
   "cell_type": "code",
   "execution_count": null,
   "metadata": {},
   "outputs": [],
   "source": [
    "# use  MatplotLib ...\n",
    "\n"
   ]
  },
  {
   "cell_type": "markdown",
   "metadata": {},
   "source": [
    "### Run a side-channel Differential Analysis (DPA)\n",
    " What are you going to find?\n",
    "\n",
    "<img src=\"images/openTheDoor.jpeg\" width=\"200px\">"
   ]
  },
  {
   "cell_type": "markdown",
   "metadata": {},
   "source": [
    "### Targeting the intermediate computations in the AES\n",
    "\n",
    "As explained previously this attack technique needs to perform guesses on a part of the key (divide-and-conquer approach) and for each guess, knowing the plaintext (resp. the ciphertext) we can compute the intermediate data that is manipulated by the targeted device during the computation. Of course only the right guess will lead the values really manipulated by the device. In that case the DPA attack will succeed and gives the information the guess leading to highest DPA peak matches with the secret key.\n",
    "\n",
    "<img src=\"images/AESscheme.png\" width=\"300px\">"
   ]
  },
  {
   "cell_type": "markdown",
   "metadata": {},
   "source": [
    "### Perform the Attack on the first round\n",
    "\n",
    "Knowing the plaintexts (AES inputs) we know the value given as input to the first AES (SPN) round.\n",
    "Performing guesses on each key byte we can guess all the intermediate values of the first round and and use these values with DPA to exploit the related side-channel trace collected by performing the attack.\n",
    "It can be the output of the key addition, the output of the Subbytes operations, and even in the MixColumn when using chosen messages."
   ]
  },
  {
   "cell_type": "markdown",
   "metadata": {},
   "source": [
    "--- \n",
    "🅰️ Configure the attack parameters"
   ]
  },
  {
   "cell_type": "code",
   "execution_count": null,
   "metadata": {},
   "outputs": [],
   "source": [
    "#(S) SelectionFunction\n",
    "S = scared.\n",
    "\n",
    "#(M) Model\n",
    "M = scared.\n",
    "\n",
    "#(d) Discriminant\n",
    "d = scared."
   ]
  },
  {
   "cell_type": "markdown",
   "metadata": {},
   "source": [
    "### Now, we are all set to attack\n",
    "\n",
    "With the right **Selection function (S)**, **Data model (M)**, **Distinguisher (D)** we can now create the attack."
   ]
  },
  {
   "cell_type": "markdown",
   "metadata": {},
   "source": [
    "--- \n",
    "🅰️ Define the traces container"
   ]
  },
  {
   "cell_type": "code",
   "execution_count": null,
   "metadata": {},
   "outputs": [],
   "source": [
    "container = scared..."
   ]
  },
  {
   "cell_type": "markdown",
   "metadata": {},
   "source": [
    "--- \n",
    "🅰️ Setup the attack"
   ]
  },
  {
   "cell_type": "code",
   "execution_count": null,
   "metadata": {},
   "outputs": [],
   "source": [
    "attack_dpa = scared.DPAAttack(...)"
   ]
  },
  {
   "cell_type": "markdown",
   "metadata": {},
   "source": [
    "### ...Attack!\n",
    "\n",
    "If everything went well, then you're ready to go for a _run()_: All 16 bytes will be attacked! If you want to target less bytes or a single one, check at the selection function arguments. In particular the keyword '_words_'."
   ]
  },
  {
   "cell_type": "code",
   "execution_count": null,
   "metadata": {},
   "outputs": [],
   "source": [
    "#run\n",
    "attack_dpa.run(...)"
   ]
  },
  {
   "cell_type": "markdown",
   "metadata": {},
   "source": [
    "--- \n",
    "🅰️ Print the result"
   ]
  },
  {
   "cell_type": "code",
   "execution_count": 5,
   "metadata": {},
   "outputs": [],
   "source": [
    "from sys import path"
   ]
  },
  {
   "cell_type": "code",
   "execution_count": 6,
   "metadata": {},
   "outputs": [],
   "source": [
    "path.append('/Users/bfeix/_Cyrano/Jupyter/a_helper')\n",
    "#path"
   ]
  },
  {
   "cell_type": "code",
   "execution_count": 7,
   "metadata": {},
   "outputs": [],
   "source": [
    "from plot_and_show_results import plot_attack_result, print_attack_result, attack_entropy"
   ]
  },
  {
   "cell_type": "code",
   "execution_count": null,
   "metadata": {},
   "outputs": [],
   "source": [
    "print_attack_result(attack_dpa, ths[0].key)"
   ]
  },
  {
   "cell_type": "markdown",
   "metadata": {},
   "source": [
    "### Let's visualize the results we have obtained"
   ]
  },
  {
   "cell_type": "markdown",
   "metadata": {},
   "source": [
    "--- \n",
    "🅰️ PLot the result with the function plot_attack_result()"
   ]
  },
  {
   "cell_type": "code",
   "execution_count": null,
   "metadata": {},
   "outputs": [],
   "source": [
    "plot_attack_result(...)"
   ]
  },
  {
   "cell_type": "markdown",
   "metadata": {},
   "source": [
    "--- \n",
    "🅰️ Save the result"
   ]
  },
  {
   "cell_type": "code",
   "execution_count": null,
   "metadata": {},
   "outputs": [],
   "source": []
  },
  {
   "cell_type": "markdown",
   "metadata": {},
   "source": [
    "--- \n",
    "🅰️ Let see the DPA traces obtained"
   ]
  },
  {
   "cell_type": "markdown",
   "metadata": {},
   "source": [
    "--- \n",
    "🅰️ Refine the attack more cleverly using more options"
   ]
  },
  {
   "cell_type": "markdown",
   "metadata": {},
   "source": [
    "* From previous trace analysis we have identified the area of interest is RoundOne.\n",
    "* Let's refine the attack more cleverly the attack on the precise area for the attack frame\n",
    "* you can also observe the attack result at different steps (traces number used) among the whole set of used traces in the ths, for instance each 10% of traces."
   ]
  },
  {
   "cell_type": "code",
   "execution_count": null,
   "metadata": {},
   "outputs": [],
   "source": [
    "..."
   ]
  },
  {
   "cell_type": "markdown",
   "metadata": {},
   "source": [
    "--- \n",
    "🅰️ Plot directly Attack result"
   ]
  },
  {
   "cell_type": "code",
   "execution_count": null,
   "metadata": {},
   "outputs": [],
   "source": [
    "# define the key byte targeted value\n",
    "KeyByte= ...\n",
    "\n",
    "# Plotting the DPA scores for byte selected    \n",
    "plt.plot(attack_dpa.results[:, KeyByte, :].T)\n",
    "plt.show()\n",
    "\n",
    "# Plotting the convergence scores for byte 0\n",
    "plt.plot(attack_dpa.convergences_traces[:,KeyByte,:].T)\n",
    "plt.show()"
   ]
  },
  {
   "cell_type": "markdown",
   "metadata": {},
   "source": [
    "-----------------------------\n",
    "The devil is in the details ...\n",
    "\n",
    "<!---\n",
    "\n",
    "ResultTraces = attack_dpa\n",
    "\n",
    "@interact(KeyByte=(0,15))    \n",
    "def interactive_plot_3(KeyByte=0):\n",
    "    plt.rcParams[\"figure.figsize\"] = [25, 5]\n",
    "    plt.subplot(121)\n",
    "    plt.title('DPA scores - Byte'+str(KeyByte), fontsize=GraphTitleFontSize)\n",
    "    plt.xlabel('points', fontsize=14)\n",
    "    plt.ylabel('DPA score', fontsize=14)\n",
    "    plt.plot(ResultTraces.results[:, KeyByte, :].T)\n",
    "    # Plotting the convergence scores for byte 0\n",
    "    plt.subplot(122)\n",
    "    plt.title('Convergence score - Byte'+str(KeyByte), fontsize=GraphTitleFontSize)\n",
    "    plt.xlabel('Number of trace', fontsize=14)\n",
    "    plt.ylabel('DPA score', fontsize=14)\n",
    "    plt.plot(ResultTraces.convergences_traces[:,KeyByte,:].T)\n",
    "    plt.show()\n",
    "\n",
    "    --->"
   ]
  },
  {
   "cell_type": "markdown",
   "metadata": {},
   "source": [
    "### Perform the Attack on the ten-th (last) round\n",
    "\n",
    "Knowing the ciphertexts (AES outputs) we can for a key byte guess revert the intermediate computation until the input of the last Subbytes operation.\n",
    "Performing guesses on each key byte we can guess all the intermediate values of last AES round and and use these values with DPA to exploit the related side-channel trace collected by performing the attack."
   ]
  },
  {
   "cell_type": "markdown",
   "metadata": {},
   "source": [
    "--- \n",
    "🅰️ Configure the attack"
   ]
  },
  {
   "cell_type": "code",
   "execution_count": null,
   "metadata": {},
   "outputs": [],
   "source": [
    "..."
   ]
  },
  {
   "cell_type": "markdown",
   "metadata": {},
   "source": [
    "--- \n",
    "🅰️ Attack"
   ]
  },
  {
   "cell_type": "code",
   "execution_count": null,
   "metadata": {},
   "outputs": [],
   "source": [
    "..."
   ]
  },
  {
   "cell_type": "markdown",
   "metadata": {},
   "source": [
    "--- \n",
    "🅰️ Print and plot results"
   ]
  },
  {
   "cell_type": "code",
   "execution_count": null,
   "metadata": {},
   "outputs": [],
   "source": [
    "..."
   ]
  },
  {
   "cell_type": "markdown",
   "metadata": {},
   "source": [
    "### Have you recovered the  key?\n",
    "\n"
   ]
  },
  {
   "cell_type": "code",
   "execution_count": null,
   "metadata": {},
   "outputs": [],
   "source": []
  }
 ],
 "metadata": {
  "kernelspec": {
   "display_name": "Python 3",
   "language": "python",
   "name": "python3"
  },
  "language_info": {
   "codemirror_mode": {
    "name": "ipython",
    "version": 3
   },
   "file_extension": ".py",
   "mimetype": "text/x-python",
   "name": "python",
   "nbconvert_exporter": "python",
   "pygments_lexer": "ipython3",
   "version": "3.7.9"
  }
 },
 "nbformat": 4,
 "nbformat_minor": 4
}
