{
 "cells": [
  {
   "cell_type": "markdown",
   "metadata": {},
   "source": [
    "# Utilisation du ChipWhisperer-Lite 32-bit\n",
    "\n",
    "Nous détaillons ici la configuration et l'utilisation du board pour les TPs\n",
    "\n"
   ]
  },
  {
   "cell_type": "markdown",
   "metadata": {},
   "source": [
    "Liens:\n",
    "https://rtfm.newae.com/Capture/ChipWhisperer-Lite/\n",
    "\n",
    "Microcontrolleur STM32F3:\n",
    "https://www.st.com/resource/en/datasheet/stm32f303vc.pdf"
   ]
  },
  {
   "cell_type": "markdown",
   "metadata": {},
   "source": [
    "## Setup et premier Test\n",
    "\n",
    "Dans le folder chipwhisperer:\n",
    "  \n",
    "Notebook:\n",
    "* 1 - Lab 0 - SCA101 Setup : premier notebook \n",
    "\n",
    "\n"
   ]
  },
  {
   "cell_type": "markdown",
   "metadata": {},
   "source": [
    "Installer les packets comme indiqués\n",
    "\n",
    "puis télécharger le compilateur arm-eabi, le mettre dans un repertoire (ci dessous Users/bfeix/opt/gcc_arm/)\n",
    "\n",
    "et le rajouter au PATH\n",
    "export PATH=\"$PATH:/Users/bfeix/opt/gcc_arm/gcc-arm-none-eabi-10.3-2021.10/bin/\"\n",
    "\n",
    "Cela nous sera nécéssaire pour compiler le firmware à charger dans la target STM32F303."
   ]
  },
  {
   "cell_type": "markdown",
   "metadata": {},
   "source": [
    "## Execution d'un AES (tiny AES) et collection des traces et metadatas\n",
    "\n",
    "Executer le notebook modifié:\n",
    "\n",
    "* XLIM_TP_1_Part II_Simple Side Channel Analysis (HARDWARE).ipynb"
   ]
  },
  {
   "cell_type": "code",
   "execution_count": null,
   "metadata": {},
   "outputs": [],
   "source": []
  }
 ],
 "metadata": {
  "kernelspec": {
   "display_name": "Python 3",
   "language": "python",
   "name": "python3"
  },
  "language_info": {
   "codemirror_mode": {
    "name": "ipython",
    "version": 3
   },
   "file_extension": ".py",
   "mimetype": "text/x-python",
   "name": "python",
   "nbconvert_exporter": "python",
   "pygments_lexer": "ipython3",
   "version": "3.7.9"
  }
 },
 "nbformat": 4,
 "nbformat_minor": 4
}
